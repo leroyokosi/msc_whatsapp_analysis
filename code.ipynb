{
 "cells": [
  {
   "cell_type": "code",
   "execution_count": 40,
   "metadata": {},
   "outputs": [],
   "source": [
    "# Install required libraries\n",
    "!pip install emoji --upgrade --quiet"
   ]
  },
  {
   "cell_type": "code",
   "execution_count": 42,
   "metadata": {},
   "outputs": [],
   "source": [
    "# Import libraries\n",
    "import pandas as pd\n",
    "import re\n",
    "import emoji\n",
    "from collections import Counter"
   ]
  },
  {
   "cell_type": "code",
   "execution_count": 59,
   "metadata": {},
   "outputs": [],
   "source": [
    "# read text from file \n",
    "file_location = r\"C:\\Users\\Dell\\Documents\\ds_ai_whatsapp\\_chat.txt\"\n",
    "with open(file_location, 'r', encoding='utf-8') as f:\n",
    "    data = f.read()"
   ]
  },
  {
   "cell_type": "code",
   "execution_count": 60,
   "metadata": {},
   "outputs": [],
   "source": [
    "# Create lists to store data\n",
    "date_list = []\n",
    "time_list = []\n",
    "user_list = []\n",
    "message_list = []\n",
    "\n",
    "# Iterate through each line in the chat file\n",
    "for line in data.split('\\n'):\n",
    "    # Use regular expressions to extract date, time, user/number, and message\n",
    "    match = re.match(r'\\[(.*?)\\] (.*?):\\s*(.*)', line)\n",
    "    if match:\n",
    "        date_time = match.group(1).split(', ')\n",
    "        date_list.append(date_time[0])\n",
    "        time_list.append(date_time[1])\n",
    "        user_list.append(match.group(2))\n",
    "        message_list.append(match.group(3))"
   ]
  },
  {
   "cell_type": "code",
   "execution_count": 61,
   "metadata": {},
   "outputs": [
    {
     "data": {
      "text/html": [
       "<div>\n",
       "<style scoped>\n",
       "    .dataframe tbody tr th:only-of-type {\n",
       "        vertical-align: middle;\n",
       "    }\n",
       "\n",
       "    .dataframe tbody tr th {\n",
       "        vertical-align: top;\n",
       "    }\n",
       "\n",
       "    .dataframe thead th {\n",
       "        text-align: right;\n",
       "    }\n",
       "</style>\n",
       "<table border=\"1\" class=\"dataframe\">\n",
       "  <thead>\n",
       "    <tr style=\"text-align: right;\">\n",
       "      <th></th>\n",
       "      <th>Date</th>\n",
       "      <th>Time</th>\n",
       "      <th>User</th>\n",
       "      <th>Message</th>\n",
       "    </tr>\n",
       "  </thead>\n",
       "  <tbody>\n",
       "    <tr>\n",
       "      <th>0</th>\n",
       "      <td>3/18/22</td>\n",
       "      <td>14:29:05</td>\n",
       "      <td>Ds &amp; Ai</td>\n",
       "      <td>‎Messages and calls are end-to-end encrypted. ...</td>\n",
       "    </tr>\n",
       "    <tr>\n",
       "      <th>1</th>\n",
       "      <td>3/18/22</td>\n",
       "      <td>14:29:05</td>\n",
       "      <td>~ chris</td>\n",
       "      <td>‎~ chris created this group</td>\n",
       "    </tr>\n",
       "    <tr>\n",
       "      <th>2</th>\n",
       "      <td>3/18/22</td>\n",
       "      <td>14:29:05</td>\n",
       "      <td>Ds &amp; Ai</td>\n",
       "      <td>‎You were added</td>\n",
       "    </tr>\n",
       "    <tr>\n",
       "      <th>3</th>\n",
       "      <td>9/18/22</td>\n",
       "      <td>22:43:29</td>\n",
       "      <td>EMK Emmanuel</td>\n",
       "      <td>‎‎EMK Emmanuel changed their phone number to a...</td>\n",
       "    </tr>\n",
       "    <tr>\n",
       "      <th>4</th>\n",
       "      <td>9/20/22</td>\n",
       "      <td>06:31:52</td>\n",
       "      <td>~ chris</td>\n",
       "      <td>‎‎~ chris changed their phone number to a new ...</td>\n",
       "    </tr>\n",
       "  </tbody>\n",
       "</table>\n",
       "</div>"
      ],
      "text/plain": [
       "      Date      Time          User  \\\n",
       "0  3/18/22  14:29:05       Ds & Ai   \n",
       "1  3/18/22  14:29:05       ~ chris   \n",
       "2  3/18/22  14:29:05       Ds & Ai   \n",
       "3  9/18/22  22:43:29  EMK Emmanuel   \n",
       "4  9/20/22  06:31:52       ~ chris   \n",
       "\n",
       "                                             Message  \n",
       "0  ‎Messages and calls are end-to-end encrypted. ...  \n",
       "1                        ‎~ chris created this group  \n",
       "2                                    ‎You were added  \n",
       "3  ‎‎EMK Emmanuel changed their phone number to a...  \n",
       "4  ‎‎~ chris changed their phone number to a new ...  "
      ]
     },
     "execution_count": 61,
     "metadata": {},
     "output_type": "execute_result"
    }
   ],
   "source": [
    "# Create a pandas DataFrame from the extracted data\n",
    "data = {\n",
    "    'Date': date_list,\n",
    "    'Time': time_list,\n",
    "    'User': user_list,\n",
    "    'Message': message_list\n",
    "}\n",
    "df = pd.DataFrame(data)\n",
    "\n",
    "# Print the resulting DataFrame\n",
    "df.head()"
   ]
  },
  {
   "cell_type": "code",
   "execution_count": 62,
   "metadata": {},
   "outputs": [
    {
     "data": {
      "text/plain": [
       "(3930, 4)"
      ]
     },
     "execution_count": 62,
     "metadata": {},
     "output_type": "execute_result"
    }
   ],
   "source": [
    "df.shape"
   ]
  },
  {
   "cell_type": "code",
   "execution_count": 63,
   "metadata": {},
   "outputs": [
    {
     "name": "stdout",
     "output_type": "stream",
     "text": [
      "<class 'pandas.core.frame.DataFrame'>\n",
      "RangeIndex: 3930 entries, 0 to 3929\n",
      "Data columns (total 4 columns):\n",
      " #   Column   Non-Null Count  Dtype \n",
      "---  ------   --------------  ----- \n",
      " 0   Date     3930 non-null   object\n",
      " 1   Time     3930 non-null   object\n",
      " 2   User     3930 non-null   object\n",
      " 3   Message  3930 non-null   object\n",
      "dtypes: object(4)\n",
      "memory usage: 122.9+ KB\n"
     ]
    }
   ],
   "source": [
    "df.info()"
   ]
  },
  {
   "cell_type": "code",
   "execution_count": 65,
   "metadata": {},
   "outputs": [
    {
     "name": "stderr",
     "output_type": "stream",
     "text": [
      "C:\\Users\\Dell\\AppData\\Local\\Temp\\ipykernel_14592\\4210372300.py:2: UserWarning: Could not infer format, so each element will be parsed individually, falling back to `dateutil`. To ensure parsing is consistent and as-expected, please specify a format.\n",
      "  df['Date'] = pd.to_datetime(df['Date'])\n"
     ]
    }
   ],
   "source": [
    "# Convert the date column to datetime format\n",
    "df['Date'] = pd.to_datetime(df['Date'])"
   ]
  },
  {
   "cell_type": "code",
   "execution_count": 66,
   "metadata": {},
   "outputs": [
    {
     "data": {
      "text/html": [
       "<div>\n",
       "<style scoped>\n",
       "    .dataframe tbody tr th:only-of-type {\n",
       "        vertical-align: middle;\n",
       "    }\n",
       "\n",
       "    .dataframe tbody tr th {\n",
       "        vertical-align: top;\n",
       "    }\n",
       "\n",
       "    .dataframe thead th {\n",
       "        text-align: right;\n",
       "    }\n",
       "</style>\n",
       "<table border=\"1\" class=\"dataframe\">\n",
       "  <thead>\n",
       "    <tr style=\"text-align: right;\">\n",
       "      <th></th>\n",
       "      <th>User</th>\n",
       "      <th>Message</th>\n",
       "      <th>DateTime</th>\n",
       "    </tr>\n",
       "  </thead>\n",
       "  <tbody>\n",
       "    <tr>\n",
       "      <th>0</th>\n",
       "      <td>Ds &amp; Ai</td>\n",
       "      <td>‎Messages and calls are end-to-end encrypted. ...</td>\n",
       "      <td>2022-03-18 14:29:05</td>\n",
       "    </tr>\n",
       "    <tr>\n",
       "      <th>1</th>\n",
       "      <td>~ chris</td>\n",
       "      <td>‎~ chris created this group</td>\n",
       "      <td>2022-03-18 14:29:05</td>\n",
       "    </tr>\n",
       "    <tr>\n",
       "      <th>2</th>\n",
       "      <td>Ds &amp; Ai</td>\n",
       "      <td>‎You were added</td>\n",
       "      <td>2022-03-18 14:29:05</td>\n",
       "    </tr>\n",
       "    <tr>\n",
       "      <th>3</th>\n",
       "      <td>EMK Emmanuel</td>\n",
       "      <td>‎‎EMK Emmanuel changed their phone number to a...</td>\n",
       "      <td>2022-09-18 22:43:29</td>\n",
       "    </tr>\n",
       "    <tr>\n",
       "      <th>4</th>\n",
       "      <td>~ chris</td>\n",
       "      <td>‎‎~ chris changed their phone number to a new ...</td>\n",
       "      <td>2022-09-20 06:31:52</td>\n",
       "    </tr>\n",
       "  </tbody>\n",
       "</table>\n",
       "</div>"
      ],
      "text/plain": [
       "           User                                            Message  \\\n",
       "0       Ds & Ai  ‎Messages and calls are end-to-end encrypted. ...   \n",
       "1       ~ chris                        ‎~ chris created this group   \n",
       "2       Ds & Ai                                    ‎You were added   \n",
       "3  EMK Emmanuel  ‎‎EMK Emmanuel changed their phone number to a...   \n",
       "4       ~ chris  ‎‎~ chris changed their phone number to a new ...   \n",
       "\n",
       "             DateTime  \n",
       "0 2022-03-18 14:29:05  \n",
       "1 2022-03-18 14:29:05  \n",
       "2 2022-03-18 14:29:05  \n",
       "3 2022-09-18 22:43:29  \n",
       "4 2022-09-20 06:31:52  "
      ]
     },
     "execution_count": 66,
     "metadata": {},
     "output_type": "execute_result"
    }
   ],
   "source": [
    "# Convert 'Date' and 'Time' to string and merge them\n",
    "df['DateTime'] = df['Date'].dt.strftime('%Y-%m-%d') + ' ' + df['Time']\n",
    "\n",
    "# Convert 'DateTime' back to datetime format\n",
    "df['DateTime'] = pd.to_datetime(df['DateTime'], format='%Y-%m-%d %H:%M:%S')\n",
    "\n",
    "# Now you can drop the 'Date' and 'Time' columns if you want\n",
    "df = df.drop(['Date', 'Time'], axis=1)\n",
    "\n",
    "df.head()"
   ]
  }
 ],
 "metadata": {
  "kernelspec": {
   "display_name": "Python 3",
   "language": "python",
   "name": "python3"
  },
  "language_info": {
   "codemirror_mode": {
    "name": "ipython",
    "version": 3
   },
   "file_extension": ".py",
   "mimetype": "text/x-python",
   "name": "python",
   "nbconvert_exporter": "python",
   "pygments_lexer": "ipython3",
   "version": "3.11.6"
  }
 },
 "nbformat": 4,
 "nbformat_minor": 2
}
